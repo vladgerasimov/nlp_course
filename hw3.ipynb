{
 "cells": [
  {
   "cell_type": "code",
   "execution_count": 125,
   "metadata": {},
   "outputs": [],
   "source": [
    "from gensim.models import FastText, Word2Vec\n",
    "import pandas as pd\n",
    "import numpy as np\n",
    "from pymorphy2 import MorphAnalyzer\n",
    "from scipy.spatial.distance import cosine"
   ]
  },
  {
   "cell_type": "code",
   "execution_count": 3,
   "metadata": {},
   "outputs": [],
   "source": [
    "# !wget https://www.dropbox.com/s/fnpq3z4bcnoktiv/positive.csv\n",
    "# !wget https://www.dropbox.com/s/r6u59ljhhjdg6j0/negative.csv"
   ]
  },
  {
   "cell_type": "code",
   "execution_count": 138,
   "metadata": {},
   "outputs": [],
   "source": [
    "positive = pd.read_csv('positive.csv', sep=';', usecols=[3], names=['text'])\n",
    "positive['label'] = ['positive'] * len(positive)\n",
    "negative = pd.read_csv('negative.csv', sep=';', usecols=[3], names=['text'])\n",
    "negative['label'] = ['negative'] * len(negative)\n",
    "df = positive.append(negative)"
   ]
  },
  {
   "cell_type": "code",
   "execution_count": 139,
   "metadata": {},
   "outputs": [
    {
     "data": {
      "text/html": [
       "<div>\n",
       "<style scoped>\n",
       "    .dataframe tbody tr th:only-of-type {\n",
       "        vertical-align: middle;\n",
       "    }\n",
       "\n",
       "    .dataframe tbody tr th {\n",
       "        vertical-align: top;\n",
       "    }\n",
       "\n",
       "    .dataframe thead th {\n",
       "        text-align: right;\n",
       "    }\n",
       "</style>\n",
       "<table border=\"1\" class=\"dataframe\">\n",
       "  <thead>\n",
       "    <tr style=\"text-align: right;\">\n",
       "      <th></th>\n",
       "      <th>text</th>\n",
       "      <th>label</th>\n",
       "    </tr>\n",
       "  </thead>\n",
       "  <tbody>\n",
       "    <tr>\n",
       "      <th>0</th>\n",
       "      <td>@first_timee хоть я и школота, но поверь, у на...</td>\n",
       "      <td>positive</td>\n",
       "    </tr>\n",
       "    <tr>\n",
       "      <th>1</th>\n",
       "      <td>Да, все-таки он немного похож на него. Но мой ...</td>\n",
       "      <td>positive</td>\n",
       "    </tr>\n",
       "    <tr>\n",
       "      <th>2</th>\n",
       "      <td>RT @KatiaCheh: Ну ты идиотка) я испугалась за ...</td>\n",
       "      <td>positive</td>\n",
       "    </tr>\n",
       "    <tr>\n",
       "      <th>3</th>\n",
       "      <td>RT @digger2912: \"Кто то в углу сидит и погибае...</td>\n",
       "      <td>positive</td>\n",
       "    </tr>\n",
       "    <tr>\n",
       "      <th>4</th>\n",
       "      <td>@irina_dyshkant Вот что значит страшилка :D\\nН...</td>\n",
       "      <td>positive</td>\n",
       "    </tr>\n",
       "    <tr>\n",
       "      <th>...</th>\n",
       "      <td>...</td>\n",
       "      <td>...</td>\n",
       "    </tr>\n",
       "    <tr>\n",
       "      <th>111918</th>\n",
       "      <td>Но не каждый хочет что то исправлять:( http://...</td>\n",
       "      <td>negative</td>\n",
       "    </tr>\n",
       "    <tr>\n",
       "      <th>111919</th>\n",
       "      <td>скучаю так :-( только @taaannyaaa вправляет мо...</td>\n",
       "      <td>negative</td>\n",
       "    </tr>\n",
       "    <tr>\n",
       "      <th>111920</th>\n",
       "      <td>Вот и в школу, в говно это идти уже надо(</td>\n",
       "      <td>negative</td>\n",
       "    </tr>\n",
       "    <tr>\n",
       "      <th>111921</th>\n",
       "      <td>RT @_Them__: @LisaBeroud Тауриэль, не грусти :...</td>\n",
       "      <td>negative</td>\n",
       "    </tr>\n",
       "    <tr>\n",
       "      <th>111922</th>\n",
       "      <td>Такси везет меня на работу. Раздумываю приплат...</td>\n",
       "      <td>negative</td>\n",
       "    </tr>\n",
       "  </tbody>\n",
       "</table>\n",
       "<p>226834 rows × 2 columns</p>\n",
       "</div>"
      ],
      "text/plain": [
       "                                                     text     label\n",
       "0       @first_timee хоть я и школота, но поверь, у на...  positive\n",
       "1       Да, все-таки он немного похож на него. Но мой ...  positive\n",
       "2       RT @KatiaCheh: Ну ты идиотка) я испугалась за ...  positive\n",
       "3       RT @digger2912: \"Кто то в углу сидит и погибае...  positive\n",
       "4       @irina_dyshkant Вот что значит страшилка :D\\nН...  positive\n",
       "...                                                   ...       ...\n",
       "111918  Но не каждый хочет что то исправлять:( http://...  negative\n",
       "111919  скучаю так :-( только @taaannyaaa вправляет мо...  negative\n",
       "111920          Вот и в школу, в говно это идти уже надо(  negative\n",
       "111921  RT @_Them__: @LisaBeroud Тауриэль, не грусти :...  negative\n",
       "111922  Такси везет меня на работу. Раздумываю приплат...  negative\n",
       "\n",
       "[226834 rows x 2 columns]"
      ]
     },
     "execution_count": 139,
     "metadata": {},
     "output_type": "execute_result"
    }
   ],
   "source": [
    "df"
   ]
  },
  {
   "cell_type": "code",
   "execution_count": 140,
   "metadata": {},
   "outputs": [
    {
     "data": {
      "text/plain": [
       "'@first_timee хоть я и школота, но поверь, у нас то же самое :D общество профилирующий предмет типа)'"
      ]
     },
     "execution_count": 140,
     "metadata": {},
     "output_type": "execute_result"
    }
   ],
   "source": [
    "df.iloc[0, 0]"
   ]
  },
  {
   "cell_type": "code",
   "execution_count": 141,
   "metadata": {},
   "outputs": [],
   "source": [
    "morph = MorphAnalyzer()"
   ]
  },
  {
   "cell_type": "code",
   "execution_count": 142,
   "metadata": {},
   "outputs": [],
   "source": [
    "def preprocess_text(text: str) -> str:\n",
    "    return [morph.parse(i)[0].normal_form for i in text.split()]"
   ]
  },
  {
   "cell_type": "code",
   "execution_count": 143,
   "metadata": {},
   "outputs": [],
   "source": [
    "df['tokens'] = df['text'].apply(preprocess_text)\n",
    "sentences = df['tokens'].to_list()"
   ]
  },
  {
   "cell_type": "code",
   "execution_count": 151,
   "metadata": {},
   "outputs": [],
   "source": [
    "df.reset_index(inplace=True)"
   ]
  },
  {
   "cell_type": "code",
   "execution_count": 108,
   "metadata": {},
   "outputs": [],
   "source": [
    "word2vec = Word2Vec(sentences=sentences, size=200, window=5, min_count=5, workers=4)"
   ]
  },
  {
   "cell_type": "code",
   "execution_count": 113,
   "metadata": {},
   "outputs": [],
   "source": [
    "def get_emb_vector(tokens):\n",
    "    vector = np.zeros(200)\n",
    "    for token in tokens:\n",
    "        if token in word2vec.wv:\n",
    "            vector += word2vec.wv[token]\n",
    "            \n",
    "    return vector"
   ]
  },
  {
   "cell_type": "code",
   "execution_count": 145,
   "metadata": {},
   "outputs": [],
   "source": [
    "df['embedding'] = df['tokens'].apply(get_emb_vector)"
   ]
  },
  {
   "cell_type": "code",
   "execution_count": 146,
   "metadata": {
    "scrolled": true
   },
   "outputs": [
    {
     "data": {
      "text/html": [
       "<div>\n",
       "<style scoped>\n",
       "    .dataframe tbody tr th:only-of-type {\n",
       "        vertical-align: middle;\n",
       "    }\n",
       "\n",
       "    .dataframe tbody tr th {\n",
       "        vertical-align: top;\n",
       "    }\n",
       "\n",
       "    .dataframe thead th {\n",
       "        text-align: right;\n",
       "    }\n",
       "</style>\n",
       "<table border=\"1\" class=\"dataframe\">\n",
       "  <thead>\n",
       "    <tr style=\"text-align: right;\">\n",
       "      <th></th>\n",
       "      <th>text</th>\n",
       "      <th>label</th>\n",
       "      <th>tokens</th>\n",
       "      <th>embedding</th>\n",
       "    </tr>\n",
       "  </thead>\n",
       "  <tbody>\n",
       "    <tr>\n",
       "      <th>0</th>\n",
       "      <td>@first_timee хоть я и школота, но поверь, у на...</td>\n",
       "      <td>positive</td>\n",
       "      <td>[@first_timee, хоть, я, и, школота,, но, повер...</td>\n",
       "      <td>[0.23598844930529594, -1.4317471431568265, 3.7...</td>\n",
       "    </tr>\n",
       "    <tr>\n",
       "      <th>1</th>\n",
       "      <td>Да, все-таки он немного похож на него. Но мой ...</td>\n",
       "      <td>positive</td>\n",
       "      <td>[да,, всё-таки, он, немного, похожий, на, него...</td>\n",
       "      <td>[0.3188290596008301, 0.23747546784579754, 1.97...</td>\n",
       "    </tr>\n",
       "    <tr>\n",
       "      <th>2</th>\n",
       "      <td>RT @KatiaCheh: Ну ты идиотка) я испугалась за ...</td>\n",
       "      <td>positive</td>\n",
       "      <td>[rt, @katiacheh:, ну, ты, идиотка), я, испугат...</td>\n",
       "      <td>[-0.5563862472772598, -1.3325133873149753, 0.4...</td>\n",
       "    </tr>\n",
       "    <tr>\n",
       "      <th>3</th>\n",
       "      <td>RT @digger2912: \"Кто то в углу сидит и погибае...</td>\n",
       "      <td>positive</td>\n",
       "      <td>[rt, @digger2912:, \"кто, то, в, угол, сидеть, ...</td>\n",
       "      <td>[1.5630476921796799, -3.9679797978606075, 5.93...</td>\n",
       "    </tr>\n",
       "    <tr>\n",
       "      <th>4</th>\n",
       "      <td>@irina_dyshkant Вот что значит страшилка :D\\nН...</td>\n",
       "      <td>positive</td>\n",
       "      <td>[@irina_dyshkant, вот, что, значит, страшилка,...</td>\n",
       "      <td>[-2.264138240367174, -1.660068929195404, 1.783...</td>\n",
       "    </tr>\n",
       "  </tbody>\n",
       "</table>\n",
       "</div>"
      ],
      "text/plain": [
       "                                                text     label  \\\n",
       "0  @first_timee хоть я и школота, но поверь, у на...  positive   \n",
       "1  Да, все-таки он немного похож на него. Но мой ...  positive   \n",
       "2  RT @KatiaCheh: Ну ты идиотка) я испугалась за ...  positive   \n",
       "3  RT @digger2912: \"Кто то в углу сидит и погибае...  positive   \n",
       "4  @irina_dyshkant Вот что значит страшилка :D\\nН...  positive   \n",
       "\n",
       "                                              tokens  \\\n",
       "0  [@first_timee, хоть, я, и, школота,, но, повер...   \n",
       "1  [да,, всё-таки, он, немного, похожий, на, него...   \n",
       "2  [rt, @katiacheh:, ну, ты, идиотка), я, испугат...   \n",
       "3  [rt, @digger2912:, \"кто, то, в, угол, сидеть, ...   \n",
       "4  [@irina_dyshkant, вот, что, значит, страшилка,...   \n",
       "\n",
       "                                           embedding  \n",
       "0  [0.23598844930529594, -1.4317471431568265, 3.7...  \n",
       "1  [0.3188290596008301, 0.23747546784579754, 1.97...  \n",
       "2  [-0.5563862472772598, -1.3325133873149753, 0.4...  \n",
       "3  [1.5630476921796799, -3.9679797978606075, 5.93...  \n",
       "4  [-2.264138240367174, -1.660068929195404, 1.783...  "
      ]
     },
     "execution_count": 146,
     "metadata": {},
     "output_type": "execute_result"
    }
   ],
   "source": [
    "df.head()"
   ]
  },
  {
   "cell_type": "code",
   "execution_count": 147,
   "metadata": {},
   "outputs": [],
   "source": [
    "def get_cosine_similarity(v1, v2):\n",
    "    return cosine(v1, v2)"
   ]
  },
  {
   "cell_type": "code",
   "execution_count": 167,
   "metadata": {},
   "outputs": [],
   "source": [
    "def get_similar_tweets(tweet):\n",
    "    tokens = preprocess_text(tweet)\n",
    "    embedding = get_emb_vector(tokens)\n",
    "    \n",
    "    distances = df['embedding'].apply(lambda x: get_cosine_similarity(x, embedding))\n",
    "    \n",
    "    top5 = distances.sort_values(ascending=True)[:5]\n",
    "    \n",
    "    return top5.index"
   ]
  },
  {
   "cell_type": "code",
   "execution_count": 176,
   "metadata": {},
   "outputs": [
    {
     "name": "stdout",
     "output_type": "stream",
     "text": [
      "Да, все-таки он немного похож на него. Но мой мальчик все равно лучше:D\n",
      "\n",
      "\"Один дома\"-фильм на все времена. конечно, ничего шеедврального, но она чертовски милый и добрый:)\n",
      "#Home_Alone\n",
      "\n",
      "@NessMayles он очаровательный))брюнет,не слишком высокий,с каштановыми волосами,не кудри,но все равно вьются хд.и у него ямочки на щеках\n",
      "\n",
      "но бапы и шайни всё равно захватили моё сердце, ребята, соррьки((99((\n",
      "\n",
      "Хоть иногда меня бесят мои одноклассники, но все таки они самые-самые лучшие:*\n",
      "\n"
     ]
    }
   ],
   "source": [
    "for idx in get_similar_tweets(df.loc[1, 'text']):\n",
    "    print(df.loc[idx, 'text'] + '\\n')"
   ]
  },
  {
   "cell_type": "code",
   "execution_count": 177,
   "metadata": {},
   "outputs": [
    {
     "name": "stdout",
     "output_type": "stream",
     "text": [
      "@_music_lover_13 оооо, еще и Оля) какая прелесть)))\n",
      "\n",
      "КАКОГО ХРЕНА МЕНЯ РЕТВИТЯТ? ЕЩЕ И НЕЗНАКОМЫЕ ЛЮДИ. о_О\n",
      "\n",
      "@plo_otnik @scumbag_Judas какая еще телочка???????????????????????????????????????\n",
      "\n",
      "А ещё распирает жуткий интерес, какую фотку выберет х)\n",
      "\n",
      "@guselnikovaalen какой скоро? Ещё 3 урока:|\n",
      "\n"
     ]
    }
   ],
   "source": [
    "for idx in get_similar_tweets(df.loc[111920, 'text']):\n",
    "    print(df.loc[idx, 'text'] + '\\n')"
   ]
  },
  {
   "cell_type": "markdown",
   "metadata": {},
   "source": [
    "### Кажется, более-менее работает))"
   ]
  }
 ],
 "metadata": {
  "kernelspec": {
   "display_name": "Python 3",
   "language": "python",
   "name": "python3"
  },
  "language_info": {
   "codemirror_mode": {
    "name": "ipython",
    "version": 3
   },
   "file_extension": ".py",
   "mimetype": "text/x-python",
   "name": "python",
   "nbconvert_exporter": "python",
   "pygments_lexer": "ipython3",
   "version": "3.8.5"
  }
 },
 "nbformat": 4,
 "nbformat_minor": 4
}
